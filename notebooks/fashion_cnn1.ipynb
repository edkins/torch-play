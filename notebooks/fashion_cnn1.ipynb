{
 "cells": [
  {
   "cell_type": "markdown",
   "id": "f9115eeb",
   "metadata": {},
   "source": [
    "Here we take a very simple convolutional neural network and train it for 10 epochs, on the FashionMNIST dataset.\n",
    "\n",
    "Hopefully this will be deterministic or the rest won't make sense!"
   ]
  },
  {
   "cell_type": "code",
   "execution_count": 1,
   "id": "8e2d8904",
   "metadata": {},
   "outputs": [
    {
     "name": "stdout",
     "output_type": "stream",
     "text": [
      "env: CUBLAS_WORKSPACE_CONFIG=:4096:8\n"
     ]
    },
    {
     "ename": "IndexError",
     "evalue": "list index out of range",
     "output_type": "error",
     "traceback": [
      "\u001b[0;31m---------------------------------------------------------------------------\u001b[0m",
      "\u001b[0;31mIndexError\u001b[0m                                Traceback (most recent call last)",
      "Input \u001b[0;32mIn [1]\u001b[0m, in \u001b[0;36m<cell line: 2>\u001b[0;34m()\u001b[0m\n\u001b[1;32m      1\u001b[0m get_ipython()\u001b[38;5;241m.\u001b[39mrun_line_magic(\u001b[38;5;124m'\u001b[39m\u001b[38;5;124menv\u001b[39m\u001b[38;5;124m'\u001b[39m, \u001b[38;5;124m'\u001b[39m\u001b[38;5;124mCUBLAS_WORKSPACE_CONFIG=:4096:8\u001b[39m\u001b[38;5;124m'\u001b[39m)\n\u001b[0;32m----> 2\u001b[0m \u001b[38;5;28;01mimport\u001b[39;00m \u001b[38;5;21;01mgallery\u001b[39;00m\n\u001b[1;32m      3\u001b[0m gallery\u001b[38;5;241m.\u001b[39msrand(\u001b[38;5;241m0\u001b[39m)\n\u001b[1;32m      5\u001b[0m m \u001b[38;5;241m=\u001b[39m gallery\u001b[38;5;241m.\u001b[39mmnist_cnn(\u001b[38;5;124m'\u001b[39m\u001b[38;5;124mfashion\u001b[39m\u001b[38;5;124m'\u001b[39m,\u001b[38;5;241m1\u001b[39m)\u001b[38;5;241m.\u001b[39mtrain(\u001b[38;5;241m10\u001b[39m)\n",
      "File \u001b[0;32m~/programs/torch-play/notebooks/gallery.py:4\u001b[0m, in \u001b[0;36m<module>\u001b[0;34m\u001b[0m\n\u001b[1;32m      1\u001b[0m \u001b[38;5;28;01mfrom\u001b[39;00m \u001b[38;5;21;01mtyping\u001b[39;00m \u001b[38;5;28;01mimport\u001b[39;00m Callable\n\u001b[1;32m      3\u001b[0m \u001b[38;5;28;01mfrom\u001b[39;00m \u001b[38;5;21;01marchitecture\u001b[39;00m \u001b[38;5;28;01mimport\u001b[39;00m LinearSoftmax, CNN1, CNN2\n\u001b[0;32m----> 4\u001b[0m \u001b[38;5;28;01mfrom\u001b[39;00m \u001b[38;5;21;01mmodel\u001b[39;00m \u001b[38;5;28;01mimport\u001b[39;00m Model\n\u001b[1;32m      5\u001b[0m \u001b[38;5;28;01mfrom\u001b[39;00m \u001b[38;5;21;01mdata_adapters\u001b[39;00m \u001b[38;5;28;01mimport\u001b[39;00m DataAdapter, mnist, fashion_mnist\n\u001b[1;32m      7\u001b[0m \u001b[38;5;28;01mdef\u001b[39;00m \u001b[38;5;21m_mnist\u001b[39m(data:\u001b[38;5;28mstr\u001b[39m) \u001b[38;5;241m-\u001b[39m\u001b[38;5;241m>\u001b[39m Callable[[],DataAdapter]:\n",
      "File \u001b[0;32m~/programs/torch-play/notebooks/model.py:12\u001b[0m, in \u001b[0;36m<module>\u001b[0;34m\u001b[0m\n\u001b[1;32m      9\u001b[0m \u001b[38;5;28;01mimport\u001b[39;00m \u001b[38;5;21;01mmatplotlib\u001b[39;00m \u001b[38;5;28;01mas\u001b[39;00m \u001b[38;5;21;01mmpl\u001b[39;00m\n\u001b[1;32m     11\u001b[0m \u001b[38;5;28;01mfrom\u001b[39;00m \u001b[38;5;21;01mdata_adapters\u001b[39;00m \u001b[38;5;28;01mimport\u001b[39;00m DataAdapter\n\u001b[0;32m---> 12\u001b[0m \u001b[38;5;28;01mfrom\u001b[39;00m \u001b[38;5;21;01mimage_grid\u001b[39;00m \u001b[38;5;28;01mimport\u001b[39;00m ImageGrid\n\u001b[1;32m     14\u001b[0m \u001b[38;5;28;01mdef\u001b[39;00m \u001b[38;5;21mtranslate_device\u001b[39m(device: \u001b[38;5;28mstr\u001b[39m) \u001b[38;5;241m-\u001b[39m\u001b[38;5;241m>\u001b[39m torch\u001b[38;5;241m.\u001b[39mdevice:\n\u001b[1;32m     15\u001b[0m     \u001b[38;5;28;01mif\u001b[39;00m device \u001b[38;5;241m==\u001b[39m \u001b[38;5;124m'\u001b[39m\u001b[38;5;124mdefault\u001b[39m\u001b[38;5;124m'\u001b[39m:\n",
      "File \u001b[0;32m~/programs/torch-play/notebooks/image_grid.py:21\u001b[0m, in \u001b[0;36m<module>\u001b[0;34m\u001b[0m\n\u001b[1;32m     13\u001b[0m _negative_colors \u001b[38;5;241m=\u001b[39m [\n\u001b[1;32m     14\u001b[0m     (\u001b[38;5;241m1\u001b[39m, \u001b[38;5;241m1\u001b[39m, \u001b[38;5;241m1\u001b[39m),    \u001b[38;5;66;03m# white\u001b[39;00m\n\u001b[1;32m     15\u001b[0m     (\u001b[38;5;241m0\u001b[39m, \u001b[38;5;241m0\u001b[39m, \u001b[38;5;241m1\u001b[39m),    \u001b[38;5;66;03m# blue\u001b[39;00m\n\u001b[1;32m     16\u001b[0m     (\u001b[38;5;241m0.1\u001b[39m, \u001b[38;5;241m0.1\u001b[39m, \u001b[38;5;241m0.1\u001b[39m) \u001b[38;5;66;03m# grey\u001b[39;00m\n\u001b[1;32m     17\u001b[0m ]\n\u001b[1;32m     19\u001b[0m _maximum \u001b[38;5;241m=\u001b[39m (\u001b[38;5;241m4\u001b[39m \u001b[38;5;241m*\u001b[39m\u001b[38;5;241m*\u001b[39m (\u001b[38;5;28mlen\u001b[39m(_positive_colors)\u001b[38;5;241m-\u001b[39m\u001b[38;5;241m1\u001b[39m)) \u001b[38;5;241m/\u001b[39m \u001b[38;5;241m2\u001b[39m\n\u001b[0;32m---> 21\u001b[0m _mappings \u001b[38;5;241m=\u001b[39m {\n\u001b[1;32m     22\u001b[0m     color: [(\u001b[38;5;241m0.5\u001b[39m \u001b[38;5;241m-\u001b[39m (\u001b[38;5;241m4\u001b[39m\u001b[38;5;241m*\u001b[39m\u001b[38;5;241m*\u001b[39mi)\u001b[38;5;241m/\u001b[39m_maximum, _negative_colors[i\u001b[38;5;241m+\u001b[39m\u001b[38;5;241m1\u001b[39m][ch], _negative_colors[i\u001b[38;5;241m+\u001b[39m\u001b[38;5;241m1\u001b[39m][ch]) \u001b[38;5;28;01mfor\u001b[39;00m i \u001b[38;5;129;01min\u001b[39;00m \u001b[38;5;28mrange\u001b[39m(\u001b[38;5;28mlen\u001b[39m(_negative_colors)\u001b[38;5;241m-\u001b[39m\u001b[38;5;241m1\u001b[39m,\u001b[38;5;241m0\u001b[39m,\u001b[38;5;241m-\u001b[39m\u001b[38;5;241m1\u001b[39m)] \u001b[38;5;241m+\u001b[39m [(\u001b[38;5;241m0.5\u001b[39m \u001b[38;5;28;01mif\u001b[39;00m i\u001b[38;5;241m==\u001b[39m\u001b[38;5;241m0\u001b[39m \u001b[38;5;28;01melse\u001b[39;00m \u001b[38;5;241m0.5\u001b[39m \u001b[38;5;241m+\u001b[39m (\u001b[38;5;241m2\u001b[39m\u001b[38;5;241m*\u001b[39m\u001b[38;5;241m*\u001b[39mi)\u001b[38;5;241m/\u001b[39m_maximum, _positive_colors[i][ch], _positive_colors[i][ch]) \u001b[38;5;28;01mfor\u001b[39;00m i \u001b[38;5;129;01min\u001b[39;00m \u001b[38;5;28mrange\u001b[39m(\u001b[38;5;28mlen\u001b[39m(_positive_colors))]\n\u001b[1;32m     23\u001b[0m         \u001b[38;5;28;01mfor\u001b[39;00m ch,color \u001b[38;5;129;01min\u001b[39;00m \u001b[38;5;28menumerate\u001b[39m([\u001b[38;5;124m'\u001b[39m\u001b[38;5;124mred\u001b[39m\u001b[38;5;124m'\u001b[39m,\u001b[38;5;124m'\u001b[39m\u001b[38;5;124mgreen\u001b[39m\u001b[38;5;124m'\u001b[39m,\u001b[38;5;124m'\u001b[39m\u001b[38;5;124mblue\u001b[39m\u001b[38;5;124m'\u001b[39m])\n\u001b[1;32m     24\u001b[0m }\n\u001b[1;32m     26\u001b[0m \u001b[38;5;28mprint\u001b[39m(_mappings)\n\u001b[1;32m     28\u001b[0m cmap \u001b[38;5;241m=\u001b[39m mpl\u001b[38;5;241m.\u001b[39mcolors\u001b[38;5;241m.\u001b[39mLinearSegmentedColormap(\u001b[38;5;124m\"\u001b[39m\u001b[38;5;124mmy_colormap\u001b[39m\u001b[38;5;124m\"\u001b[39m, _mappings)\n",
      "File \u001b[0;32m~/programs/torch-play/notebooks/image_grid.py:22\u001b[0m, in \u001b[0;36m<dictcomp>\u001b[0;34m(.0)\u001b[0m\n\u001b[1;32m     13\u001b[0m _negative_colors \u001b[38;5;241m=\u001b[39m [\n\u001b[1;32m     14\u001b[0m     (\u001b[38;5;241m1\u001b[39m, \u001b[38;5;241m1\u001b[39m, \u001b[38;5;241m1\u001b[39m),    \u001b[38;5;66;03m# white\u001b[39;00m\n\u001b[1;32m     15\u001b[0m     (\u001b[38;5;241m0\u001b[39m, \u001b[38;5;241m0\u001b[39m, \u001b[38;5;241m1\u001b[39m),    \u001b[38;5;66;03m# blue\u001b[39;00m\n\u001b[1;32m     16\u001b[0m     (\u001b[38;5;241m0.1\u001b[39m, \u001b[38;5;241m0.1\u001b[39m, \u001b[38;5;241m0.1\u001b[39m) \u001b[38;5;66;03m# grey\u001b[39;00m\n\u001b[1;32m     17\u001b[0m ]\n\u001b[1;32m     19\u001b[0m _maximum \u001b[38;5;241m=\u001b[39m (\u001b[38;5;241m4\u001b[39m \u001b[38;5;241m*\u001b[39m\u001b[38;5;241m*\u001b[39m (\u001b[38;5;28mlen\u001b[39m(_positive_colors)\u001b[38;5;241m-\u001b[39m\u001b[38;5;241m1\u001b[39m)) \u001b[38;5;241m/\u001b[39m \u001b[38;5;241m2\u001b[39m\n\u001b[1;32m     21\u001b[0m _mappings \u001b[38;5;241m=\u001b[39m {\n\u001b[0;32m---> 22\u001b[0m     color: [(\u001b[38;5;241m0.5\u001b[39m \u001b[38;5;241m-\u001b[39m (\u001b[38;5;241m4\u001b[39m\u001b[38;5;241m*\u001b[39m\u001b[38;5;241m*\u001b[39mi)\u001b[38;5;241m/\u001b[39m_maximum, _negative_colors[i\u001b[38;5;241m+\u001b[39m\u001b[38;5;241m1\u001b[39m][ch], _negative_colors[i\u001b[38;5;241m+\u001b[39m\u001b[38;5;241m1\u001b[39m][ch]) \u001b[38;5;28;01mfor\u001b[39;00m i \u001b[38;5;129;01min\u001b[39;00m \u001b[38;5;28mrange\u001b[39m(\u001b[38;5;28mlen\u001b[39m(_negative_colors)\u001b[38;5;241m-\u001b[39m\u001b[38;5;241m1\u001b[39m,\u001b[38;5;241m0\u001b[39m,\u001b[38;5;241m-\u001b[39m\u001b[38;5;241m1\u001b[39m)] \u001b[38;5;241m+\u001b[39m [(\u001b[38;5;241m0.5\u001b[39m \u001b[38;5;28;01mif\u001b[39;00m i\u001b[38;5;241m==\u001b[39m\u001b[38;5;241m0\u001b[39m \u001b[38;5;28;01melse\u001b[39;00m \u001b[38;5;241m0.5\u001b[39m \u001b[38;5;241m+\u001b[39m (\u001b[38;5;241m2\u001b[39m\u001b[38;5;241m*\u001b[39m\u001b[38;5;241m*\u001b[39mi)\u001b[38;5;241m/\u001b[39m_maximum, _positive_colors[i][ch], _positive_colors[i][ch]) \u001b[38;5;28;01mfor\u001b[39;00m i \u001b[38;5;129;01min\u001b[39;00m \u001b[38;5;28mrange\u001b[39m(\u001b[38;5;28mlen\u001b[39m(_positive_colors))]\n\u001b[1;32m     23\u001b[0m         \u001b[38;5;28;01mfor\u001b[39;00m ch,color \u001b[38;5;129;01min\u001b[39;00m \u001b[38;5;28menumerate\u001b[39m([\u001b[38;5;124m'\u001b[39m\u001b[38;5;124mred\u001b[39m\u001b[38;5;124m'\u001b[39m,\u001b[38;5;124m'\u001b[39m\u001b[38;5;124mgreen\u001b[39m\u001b[38;5;124m'\u001b[39m,\u001b[38;5;124m'\u001b[39m\u001b[38;5;124mblue\u001b[39m\u001b[38;5;124m'\u001b[39m])\n\u001b[1;32m     24\u001b[0m }\n\u001b[1;32m     26\u001b[0m \u001b[38;5;28mprint\u001b[39m(_mappings)\n\u001b[1;32m     28\u001b[0m cmap \u001b[38;5;241m=\u001b[39m mpl\u001b[38;5;241m.\u001b[39mcolors\u001b[38;5;241m.\u001b[39mLinearSegmentedColormap(\u001b[38;5;124m\"\u001b[39m\u001b[38;5;124mmy_colormap\u001b[39m\u001b[38;5;124m\"\u001b[39m, _mappings)\n",
      "File \u001b[0;32m~/programs/torch-play/notebooks/image_grid.py:22\u001b[0m, in \u001b[0;36m<listcomp>\u001b[0;34m(.0)\u001b[0m\n\u001b[1;32m     13\u001b[0m _negative_colors \u001b[38;5;241m=\u001b[39m [\n\u001b[1;32m     14\u001b[0m     (\u001b[38;5;241m1\u001b[39m, \u001b[38;5;241m1\u001b[39m, \u001b[38;5;241m1\u001b[39m),    \u001b[38;5;66;03m# white\u001b[39;00m\n\u001b[1;32m     15\u001b[0m     (\u001b[38;5;241m0\u001b[39m, \u001b[38;5;241m0\u001b[39m, \u001b[38;5;241m1\u001b[39m),    \u001b[38;5;66;03m# blue\u001b[39;00m\n\u001b[1;32m     16\u001b[0m     (\u001b[38;5;241m0.1\u001b[39m, \u001b[38;5;241m0.1\u001b[39m, \u001b[38;5;241m0.1\u001b[39m) \u001b[38;5;66;03m# grey\u001b[39;00m\n\u001b[1;32m     17\u001b[0m ]\n\u001b[1;32m     19\u001b[0m _maximum \u001b[38;5;241m=\u001b[39m (\u001b[38;5;241m4\u001b[39m \u001b[38;5;241m*\u001b[39m\u001b[38;5;241m*\u001b[39m (\u001b[38;5;28mlen\u001b[39m(_positive_colors)\u001b[38;5;241m-\u001b[39m\u001b[38;5;241m1\u001b[39m)) \u001b[38;5;241m/\u001b[39m \u001b[38;5;241m2\u001b[39m\n\u001b[1;32m     21\u001b[0m _mappings \u001b[38;5;241m=\u001b[39m {\n\u001b[0;32m---> 22\u001b[0m     color: [(\u001b[38;5;241m0.5\u001b[39m \u001b[38;5;241m-\u001b[39m (\u001b[38;5;241m4\u001b[39m\u001b[38;5;241m*\u001b[39m\u001b[38;5;241m*\u001b[39mi)\u001b[38;5;241m/\u001b[39m_maximum, \u001b[43m_negative_colors\u001b[49m\u001b[43m[\u001b[49m\u001b[43mi\u001b[49m\u001b[38;5;241;43m+\u001b[39;49m\u001b[38;5;241;43m1\u001b[39;49m\u001b[43m]\u001b[49m[ch], _negative_colors[i\u001b[38;5;241m+\u001b[39m\u001b[38;5;241m1\u001b[39m][ch]) \u001b[38;5;28;01mfor\u001b[39;00m i \u001b[38;5;129;01min\u001b[39;00m \u001b[38;5;28mrange\u001b[39m(\u001b[38;5;28mlen\u001b[39m(_negative_colors)\u001b[38;5;241m-\u001b[39m\u001b[38;5;241m1\u001b[39m,\u001b[38;5;241m0\u001b[39m,\u001b[38;5;241m-\u001b[39m\u001b[38;5;241m1\u001b[39m)] \u001b[38;5;241m+\u001b[39m [(\u001b[38;5;241m0.5\u001b[39m \u001b[38;5;28;01mif\u001b[39;00m i\u001b[38;5;241m==\u001b[39m\u001b[38;5;241m0\u001b[39m \u001b[38;5;28;01melse\u001b[39;00m \u001b[38;5;241m0.5\u001b[39m \u001b[38;5;241m+\u001b[39m (\u001b[38;5;241m2\u001b[39m\u001b[38;5;241m*\u001b[39m\u001b[38;5;241m*\u001b[39mi)\u001b[38;5;241m/\u001b[39m_maximum, _positive_colors[i][ch], _positive_colors[i][ch]) \u001b[38;5;28;01mfor\u001b[39;00m i \u001b[38;5;129;01min\u001b[39;00m \u001b[38;5;28mrange\u001b[39m(\u001b[38;5;28mlen\u001b[39m(_positive_colors))]\n\u001b[1;32m     23\u001b[0m         \u001b[38;5;28;01mfor\u001b[39;00m ch,color \u001b[38;5;129;01min\u001b[39;00m \u001b[38;5;28menumerate\u001b[39m([\u001b[38;5;124m'\u001b[39m\u001b[38;5;124mred\u001b[39m\u001b[38;5;124m'\u001b[39m,\u001b[38;5;124m'\u001b[39m\u001b[38;5;124mgreen\u001b[39m\u001b[38;5;124m'\u001b[39m,\u001b[38;5;124m'\u001b[39m\u001b[38;5;124mblue\u001b[39m\u001b[38;5;124m'\u001b[39m])\n\u001b[1;32m     24\u001b[0m }\n\u001b[1;32m     26\u001b[0m \u001b[38;5;28mprint\u001b[39m(_mappings)\n\u001b[1;32m     28\u001b[0m cmap \u001b[38;5;241m=\u001b[39m mpl\u001b[38;5;241m.\u001b[39mcolors\u001b[38;5;241m.\u001b[39mLinearSegmentedColormap(\u001b[38;5;124m\"\u001b[39m\u001b[38;5;124mmy_colormap\u001b[39m\u001b[38;5;124m\"\u001b[39m, _mappings)\n",
      "\u001b[0;31mIndexError\u001b[0m: list index out of range"
     ]
    }
   ],
   "source": [
    "%env CUBLAS_WORKSPACE_CONFIG=:4096:8\n",
    "import gallery\n",
    "gallery.srand(0)\n",
    "\n",
    "m = gallery.mnist_cnn('fashion',1).train(10)"
   ]
  },
  {
   "cell_type": "markdown",
   "id": "971fb353",
   "metadata": {},
   "source": [
    "Let's see what the convolutional layer activations are for the first 4 training images."
   ]
  },
  {
   "cell_type": "code",
   "execution_count": null,
   "id": "40b5be84",
   "metadata": {},
   "outputs": [],
   "source": [
    "m.activate(4).get_activation_grid(0).plot()"
   ]
  },
  {
   "cell_type": "code",
   "execution_count": null,
   "id": "2d5032b1",
   "metadata": {},
   "outputs": [],
   "source": [
    "m.get_conv_parameters(0).plot()"
   ]
  },
  {
   "cell_type": "markdown",
   "id": "a671711f",
   "metadata": {},
   "source": [
    "We already notice something strange - one of them is all negative (blue) which means that the ReLU layer will extinguish it."
   ]
  },
  {
   "cell_type": "code",
   "execution_count": null,
   "id": "d03f9d32",
   "metadata": {},
   "outputs": [],
   "source": [
    "ra = m.activate(4).get_activation_grid(1)\n",
    "ra.plot()"
   ]
  },
  {
   "cell_type": "code",
   "execution_count": null,
   "id": "f541e233",
   "metadata": {},
   "outputs": [],
   "source": [
    "m.classes"
   ]
  },
  {
   "cell_type": "code",
   "execution_count": null,
   "id": "af6df7db",
   "metadata": {},
   "outputs": [],
   "source": [
    "dp = m.get_dense_parameters(3, reshape_in=(6,26,26)).transpose()\n",
    "dp.plot((10,15))"
   ]
  },
  {
   "cell_type": "markdown",
   "id": "8b8d33c5",
   "metadata": {},
   "source": [
    "You can see there's a lot of correlation between columns 2, 4 and 5 in parameter space. This suggests we should \"rotate\" our view and look at principal components instead."
   ]
  },
  {
   "cell_type": "code",
   "execution_count": null,
   "id": "7caf9434",
   "metadata": {},
   "outputs": [],
   "source": [
    "mat = dp.pca_matrix_cols()\n",
    "mat"
   ]
  },
  {
   "cell_type": "code",
   "execution_count": null,
   "id": "401d0f70",
   "metadata": {},
   "outputs": [],
   "source": [
    "dp.mul_cols(mat).plot()"
   ]
  },
  {
   "cell_type": "code",
   "execution_count": null,
   "id": "3ae3c6e7",
   "metadata": {
    "scrolled": true
   },
   "outputs": [],
   "source": [
    "ra.mul_cols(mat).plot()"
   ]
  },
  {
   "cell_type": "code",
   "execution_count": null,
   "id": "8d1c3c9a",
   "metadata": {
    "scrolled": true
   },
   "outputs": [],
   "source": [
    "mat2 = m.activate(256).get_activation_grid(1).nmf_matrix_cols(3)\n",
    "m.activate('classes').get_activation_grid(1).mul_cols(mat2).plot((10,15))"
   ]
  },
  {
   "cell_type": "code",
   "execution_count": null,
   "id": "6fcfcffa",
   "metadata": {},
   "outputs": [],
   "source": [
    "dp.mul_cols(mat2).plot((10,15))"
   ]
  },
  {
   "cell_type": "code",
   "execution_count": null,
   "id": "3fa993b9",
   "metadata": {},
   "outputs": [],
   "source": []
  }
 ],
 "metadata": {
  "kernelspec": {
   "display_name": "Python 3 (ipykernel)",
   "language": "python",
   "name": "python3"
  },
  "language_info": {
   "codemirror_mode": {
    "name": "ipython",
    "version": 3
   },
   "file_extension": ".py",
   "mimetype": "text/x-python",
   "name": "python",
   "nbconvert_exporter": "python",
   "pygments_lexer": "ipython3",
   "version": "3.10.4"
  }
 },
 "nbformat": 4,
 "nbformat_minor": 5
}
